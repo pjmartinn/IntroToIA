{
 "cells": [
  {
   "cell_type": "markdown",
   "metadata": {},
   "source": [
    "Introduction to Artificial Intelligence - TP2 - April 19th 2018 \n",
    "--\n",
    "\n",
    "At the end of this session, you will be able to : \n",
    "- Perform basic unsupervised learning tasks using sklearn\n",
    "- Apply unsupervised learning on PyRat datasets "
   ]
  },
  {
   "cell_type": "code",
   "execution_count": 1,
   "metadata": {},
   "outputs": [],
   "source": [
    "from sklearn.datasets import load_digits\n",
    "from sklearn.cluster import KMeans\n",
    "from sklearn.decomposition import PCA,MiniBatchDictionaryLearning,DictionaryLearning\n",
    "\n",
    "import numpy as np\n",
    "from matplotlib import pyplot as plt\n",
    "%matplotlib inline\n",
    "np.random.seed(0)\n"
   ]
  },
  {
   "cell_type": "markdown",
   "metadata": {},
   "source": [
    "# Digits dataset\n",
    "\n",
    "For this TP we are going to be using the DIGITS dataset. The first thing we are going to do is load the dataset. \n",
    "\n",
    "As this is <b>unsupervised</b> we will mostly ignore y (it will only be used for visualization)."
   ]
  },
  {
   "cell_type": "markdown",
   "metadata": {},
   "source": [
    "Load the model"
   ]
  },
  {
   "cell_type": "code",
   "execution_count": 5,
   "metadata": {},
   "outputs": [
    {
     "name": "stdout",
     "output_type": "stream",
     "text": [
      "(1797, 64)\n"
     ]
    }
   ],
   "source": [
    "x_digits,y_digits = load_digits(n_class=10,return_X_y=True)\n",
    "print(x_digits.shape)"
   ]
  },
  {
   "cell_type": "markdown",
   "metadata": {},
   "source": [
    "Visualize some examples"
   ]
  },
  {
   "cell_type": "code",
   "execution_count": 3,
   "metadata": {},
   "outputs": [
    {
     "data": {
      "image/png": "[encoded data removed]",
      "text/plain": [
       "<Figure size 720x360 with 30 Axes>"
      ]
     },
     "metadata": {},
     "output_type": "display_data"
    }
   ],
   "source": [
    "fig = plt.figure(figsize=(10,5))\n",
    "\n",
    "for i in range(10):\n",
    "    plt.subplot(3,10,3*i+1)\n",
    "    \n",
    "    #pick a random digit in the current category     \n",
    "    curX = x_digits[y_digits==i]    \n",
    "    r=np.random.randint(curX.shape[0])\n",
    "    curim = curX[r,:].reshape((8,8))\n",
    "    \n",
    "    plt.imshow(curim,cmap=plt.cm.gray)\n",
    "    plt.xticks([])\n",
    "    plt.yticks([])\n",
    "    \n",
    "    \n",
    "    plt.subplot(3,10,3*i+2)\n",
    "    #pick a random digit in the current category     \n",
    "    curX = x_digits[y_digits==i]    \n",
    "    r=np.random.randint(curX.shape[0])\n",
    "    curim = curX[r,:].reshape((8,8))\n",
    "    \n",
    "    plt.imshow(curim,cmap=plt.cm.gray)\n",
    "    plt.xticks([])\n",
    "    plt.yticks([])\n",
    "    \n",
    "    plt.subplot(3,10,3*i+3)\n",
    "    #pick a random digit in the current category     \n",
    "    curX = x_digits[y_digits==i]    \n",
    "    r=np.random.randint(curX.shape[0])\n",
    "    curim = curX[r,:].reshape((8,8))\n",
    "    \n",
    "    plt.imshow(curim,cmap=plt.cm.gray)\n",
    "    plt.xticks([])\n",
    "    plt.yticks([])    "
   ]
  },
  {
   "cell_type": "markdown",
   "metadata": {},
   "source": [
    "Split the dataset"
   ]
  },
  {
   "cell_type": "markdown",
   "metadata": {},
   "source": [
    "# K-means\n",
    "Using sklearn we are going to perform K-means clustering with $10$ clusters. As we did in the last TP we will instantiate an object of the class [KMeans](http://scikit-learn.org/stable/modules/generated/sklearn.cluster.KMeans.html), with n_clusters=10 and random_state=0(so that you results are consistent with ours).\n",
    "\n",
    "You then should fit the model to the training data (without passing the y as this is a nonsupervised model)."
   ]
  },
  {
   "cell_type": "code",
   "execution_count": 7,
   "metadata": {},
   "outputs": [
    {
     "data": {
      "text/plain": [
       "KMeans(algorithm='auto', copy_x=True, init='k-means++', max_iter=300,\n",
       "    n_clusters=10, n_init=10, n_jobs=1, precompute_distances='auto',\n",
       "    random_state=0, tol=0.0001, verbose=0)"
      ]
     },
     "execution_count": 7,
     "metadata": {},
     "output_type": "execute_result"
    }
   ],
   "source": [
    "### CELL TO COMPLETE, create object kmeans from class KMeans\n",
    "KMean_classifier = KMeans(n_clusters=10, random_state=0)\n",
    "KMean_classifier.fit(x_digits)"
   ]
  },
  {
   "cell_type": "markdown",
   "metadata": {},
   "source": [
    "Now we are going to visualize the centroids of the $10$ clusters. First we have to get the center of each cluster. \n",
    "\n",
    "This will be done by using the attribute cluster\\_centers\\_ from the object."
   ]
  },
  {
   "cell_type": "code",
   "execution_count": 9,
   "metadata": {},
   "outputs": [
    {
     "name": "stdout",
     "output_type": "stream",
     "text": [
      "(10, 64)\n"
     ]
    }
   ],
   "source": [
    "### CELL TO COMPLETE, put the cluster centers in variable centroids\n",
    "centroids = KMean_classifier.cluster_centers_\n",
    "print(centroids.shape)"
   ]
  },
  {
   "cell_type": "markdown",
   "metadata": {},
   "source": [
    "We will now plot the clusters"
   ]
  },
  {
   "cell_type": "code",
   "execution_count": 10,
   "metadata": {},
   "outputs": [
    {
     "data": {
      "image/png": "[encoded data removed]",
      "text/plain": [
       "<Figure size 720x360 with 10 Axes>"
      ]
     },
     "metadata": {},
     "output_type": "display_data"
    }
   ],
   "source": [
    "fig = plt.figure(figsize=(10,5))\n",
    "\n",
    "for i,curcen in enumerate(centroids):\n",
    "    \n",
    "    plt.subplot(2,5,i+1)\n",
    "    im_cen = curcen.reshape((8,8))\n",
    "    plt.imshow(im_cen,cmap=plt.cm.gray)\n",
    "    plt.xticks([])\n",
    "    plt.yticks([])"
   ]
  },
  {
   "cell_type": "markdown",
   "metadata": {},
   "source": [
    "We are now going to take a look in our reconstructions using our KMeans model.\n",
    "\n",
    "First we take a sample from each class"
   ]
  },
  {
   "cell_type": "code",
   "execution_count": 16,
   "metadata": {},
   "outputs": [
    {
     "name": "stdout",
     "output_type": "stream",
     "text": [
      "[[41.2866112  43.03243149 41.13112641 37.08031068 47.6276962  17.33220664\n",
      "  50.20888097 46.36993292 48.58118188 41.62117978]\n",
      " [40.23417806 47.30276444 41.5230723  47.46617153 34.22483299 52.60624069\n",
      "  40.37819207 19.47207618 40.75431376 47.24246055]\n",
      " [52.77612343 34.64274391 41.21955166 40.49865973 45.29214091 45.45939094\n",
      "  55.10916999 34.77762469 27.54030456 44.34100589]\n",
      " [51.14278312 26.01191468 40.97860503 26.82441873 42.16817197 40.69717601\n",
      "  42.83584371 39.93768763 33.09009051 40.16386178]\n",
      " [25.58649257 55.04528447 50.14386447 52.64406367 45.48561459 52.96681602\n",
      "  39.8343592  39.34010541 54.21048743 45.48159357]\n",
      " [36.47271533 38.70599174 24.19061114 35.81940033 31.53853197 36.95638107\n",
      "  41.35212685 38.72085495 44.95813708 38.33131408]\n",
      " [37.29667674 49.88686451 46.75652088 45.21112076 49.08867911 41.1867639\n",
      "  52.42283806 45.26490639 43.79582274 21.06383734]\n",
      " [45.863403   47.978278   44.2813355  47.99897332 27.02532737 54.63988579\n",
      "  44.27739021 42.88128505 53.64709901 55.61379356]\n",
      " [44.320369   38.30996994 34.05016674 34.26446322 42.26200489 36.34652929\n",
      "  43.11378428 32.57479252 40.13405862 38.83528999]\n",
      " [40.60246505 49.20649141 45.63369358 41.36855617 41.46678831 49.04823554\n",
      "  29.32004539 46.6297265  56.85731342 49.28916217]]\n",
      "(10, 10)\n",
      "[5 7 8 1 0 2 9 4 7 6]\n"
     ]
    }
   ],
   "source": [
    "### Pick a few random examples \n",
    "whichex = np.random.randint(low=0,high=100,size=1) \n",
    "\n",
    "X_samp = np.concatenate([x_digits[y_digits==i][whichex] for i in range(10)])\n",
    "\n",
    "X_quant = KMean_classifier.transform(X_samp)\n",
    "\n",
    "labels = np.argmin(X_quant,axis=1)\n",
    "print(X_quant)\n",
    "print(X_quant.shape)\n",
    "print(labels)"
   ]
  },
  {
   "cell_type": "code",
   "execution_count": 26,
   "metadata": {},
   "outputs": [
    {
     "name": "stdout",
     "output_type": "stream",
     "text": [
      "[17.33220663528163, 19.4720761768681, 27.540304564586883, 26.01191468497686, 25.586492571654322, 24.19061113970219, 21.06383733625241, 27.02532736807261, 32.574792520914265, 29.320045390967515]\n"
     ]
    }
   ],
   "source": [
    "### CELL TO COMPLETE use the transform method from the kmeans object and the argmin method from class numpy\n",
    "### to generate an array containing the closest centroid to the samples \n",
    "### and another array to store the error of reconstructing the samples \n",
    "\n",
    "X_errors = X_quant\n",
    "closest_centroids = centroids[labels]  #Array containing the closest centroid (argmin of error) to the samples\n",
    "best_errors = [X_quant[i][labels[i]] for i in range(10)]  #Array containing the minimal error for each sample\n",
    "print(best_errors)"
   ]
  },
  {
   "cell_type": "code",
   "execution_count": 27,
   "metadata": {},
   "outputs": [
    {
     "data": {
      "image/png": "[encoded data removed]",
      "text/plain": [
       "<Figure size 1440x720 with 20 Axes>"
      ]
     },
     "metadata": {},
     "output_type": "display_data"
    }
   ],
   "source": [
    "plt.figure(figsize=(20,10))\n",
    "for i,(im,im_cen,error) in enumerate(zip(X_samp,closest_centroids,best_errors)):\n",
    "        \n",
    "    plt.subplot(4,6,1+2*i)\n",
    "    plt.imshow(im.reshape(8,8),cmap=plt.cm.gray)\n",
    "    plt.xticks([])\n",
    "    plt.yticks([])\n",
    "    plt.title(\"Original\")\n",
    "    \n",
    "    plt.subplot(4,6,2+2*i)\n",
    "    plt.imshow(im_cen.reshape(8,8),cmap=plt.cm.gray)\n",
    "    plt.xticks([])\n",
    "    plt.yticks([])\n",
    "    plt.title(\"Reconstruction with error %.2E\"%error)\n"
   ]
  },
  {
   "cell_type": "markdown",
   "metadata": {},
   "source": [
    "Visualize the elbow method with inertia, by generating KMeans with clusters ranging from 1 to 99, using random state = 0. Inertia is stored in [inertia\\_](http://scikit-learn.org/stable/modules/generated/sklearn.cluster.KMeans.html)"
   ]
  },
  {
   "cell_type": "code",
   "execution_count": 29,
   "metadata": {},
   "outputs": [
    {
     "name": "stderr",
     "output_type": "stream",
     "text": [
      "100%|██████████| 99/99 [00:35<00:00,  2.80it/s]\n"
     ]
    },
    {
     "data": {
      "text/plain": [
       "[<matplotlib.lines.Line2D at 0x7f748e634978>]"
      ]
     },
     "execution_count": 29,
     "metadata": {},
     "output_type": "execute_result"
    },
    {
     "data": {
      "image/png": "[encoded data removed]",
      "text/plain": [
       "<Figure size 432x288 with 1 Axes>"
      ]
     },
     "metadata": {},
     "output_type": "display_data"
    }
   ],
   "source": [
    "import tqdm\n",
    "inertias = []\n",
    "nclust = range(1,100)\n",
    "### CELL TO COMPLETE, generate a KMeans model with varying n_clusters, fit it to the data \n",
    "### and add its inertia to the inertia list\n",
    "for i in tqdm.tqdm(nclust):\n",
    "    kmean = KMeans(n_clusters=i, random_state=0)\n",
    "    kmean.fit(x_digits)\n",
    "    inertias.append(kmean.inertia_)\n",
    "    \n",
    "plt.plot(nclust,inertias)\n",
    "\n",
    "\n",
    "\n"
   ]
  },
  {
   "cell_type": "markdown",
   "metadata": {},
   "source": [
    "Sparse Dictionary Learning  on Digits\n",
    "--"
   ]
  },
  {
   "cell_type": "markdown",
   "metadata": {},
   "source": [
    "We are now going to pass to dictionary learning. The first thing is to generate a model using [MiniBatchDictionaryLearning](http://scikit-learn.org/stable/modules/generated/sklearn.decomposition.MiniBatchDictionaryLearning.html). MiniBatch here means that the method is trained using only a part of the dataset at each time, which helps immensely with the scaling of the method to bigger and wider datasets, but does not guarantee a performance as good as the normal method (where the method see all the dataset at the same time).\n",
    "\n",
    "Use n_components=$16$, random_state=$0$ and verbose = $10$ to instantiate your object. \n",
    "\n",
    "The method [fit_transform](http://scikit-learn.org/stable/modules/generated/sklearn.decomposition.MiniBatchDictionaryLearning.html#sklearn.decomposition.MiniBatchDictionaryLearning.fit_transform) is more useful than fit in this case, as it returns the code generated by the dictionary."
   ]
  },
  {
   "cell_type": "code",
   "execution_count": 30,
   "metadata": {},
   "outputs": [
    {
     "name": "stdout",
     "output_type": "stream",
     "text": [
      "Iteration   0 (elapsed time:   0s,  0.0mn)\n",
      "Iteration  10 (elapsed time:   0s,  0.0mn)\n",
      "Iteration  20 (elapsed time:   0s,  0.0mn)\n",
      "Iteration  30 (elapsed time:   0s,  0.0mn)\n",
      "Iteration  40 (elapsed time:   0s,  0.0mn)\n",
      "Iteration  50 (elapsed time:   0s,  0.0mn)\n",
      "Iteration  60 (elapsed time:   0s,  0.0mn)\n",
      "Iteration  70 (elapsed time:   0s,  0.0mn)\n",
      "Iteration  80 (elapsed time:   0s,  0.0mn)\n",
      "Iteration  90 (elapsed time:   0s,  0.0mn)\n",
      "Iteration  100 (elapsed time:   0s,  0.0mn)\n",
      "Iteration  110 (elapsed time:   0s,  0.0mn)\n",
      "Iteration  120 (elapsed time:   0s,  0.0mn)\n",
      "Iteration  130 (elapsed time:   0s,  0.0mn)\n",
      "Iteration  140 (elapsed time:   0s,  0.0mn)\n",
      "Iteration  150 (elapsed time:   0s,  0.0mn)\n",
      "Iteration  160 (elapsed time:   1s,  0.0mn)\n",
      "Iteration  170 (elapsed time:   1s,  0.0mn)\n",
      "Iteration  180 (elapsed time:   1s,  0.0mn)\n",
      "Iteration  190 (elapsed time:   1s,  0.0mn)\n",
      "Iteration  200 (elapsed time:   1s,  0.0mn)\n",
      "Iteration  210 (elapsed time:   1s,  0.0mn)\n",
      "Iteration  220 (elapsed time:   1s,  0.0mn)\n",
      "Iteration  230 (elapsed time:   1s,  0.0mn)\n",
      "Iteration  240 (elapsed time:   1s,  0.0mn)\n",
      "Iteration  250 (elapsed time:   1s,  0.0mn)\n",
      "Iteration  260 (elapsed time:   1s,  0.0mn)\n",
      "Iteration  270 (elapsed time:   1s,  0.0mn)\n",
      "Iteration  280 (elapsed time:   1s,  0.0mn)\n",
      "Iteration  290 (elapsed time:   1s,  0.0mn)\n",
      "Iteration  300 (elapsed time:   1s,  0.0mn)\n",
      "Iteration  310 (elapsed time:   1s,  0.0mn)\n",
      "Iteration  320 (elapsed time:   1s,  0.0mn)\n",
      "Iteration  330 (elapsed time:   2s,  0.0mn)\n",
      "Iteration  340 (elapsed time:   2s,  0.0mn)\n",
      "Iteration  350 (elapsed time:   2s,  0.0mn)\n",
      "Iteration  360 (elapsed time:   2s,  0.0mn)\n",
      "Iteration  370 (elapsed time:   2s,  0.0mn)\n",
      "Iteration  380 (elapsed time:   2s,  0.0mn)\n",
      "Iteration  390 (elapsed time:   2s,  0.0mn)\n",
      "Iteration  400 (elapsed time:   2s,  0.0mn)\n",
      "Iteration  410 (elapsed time:   2s,  0.0mn)\n",
      "Iteration  420 (elapsed time:   2s,  0.0mn)\n",
      "Iteration  430 (elapsed time:   2s,  0.0mn)\n",
      "Iteration  440 (elapsed time:   2s,  0.0mn)\n",
      "Iteration  450 (elapsed time:   2s,  0.0mn)\n",
      "Iteration  460 (elapsed time:   2s,  0.0mn)\n",
      "Iteration  470 (elapsed time:   2s,  0.0mn)\n",
      "Iteration  480 (elapsed time:   2s,  0.0mn)\n",
      "Iteration  490 (elapsed time:   2s,  0.0mn)\n",
      "Iteration  500 (elapsed time:   3s,  0.1mn)\n",
      "Iteration  510 (elapsed time:   3s,  0.1mn)\n",
      "Iteration  520 (elapsed time:   3s,  0.1mn)\n",
      "Iteration  530 (elapsed time:   3s,  0.1mn)\n",
      "Iteration  540 (elapsed time:   3s,  0.1mn)\n",
      "Iteration  550 (elapsed time:   3s,  0.1mn)\n",
      "Iteration  560 (elapsed time:   3s,  0.1mn)\n",
      "Iteration  570 (elapsed time:   3s,  0.1mn)\n",
      "Iteration  580 (elapsed time:   3s,  0.1mn)\n",
      "Iteration  590 (elapsed time:   3s,  0.1mn)\n",
      "Iteration  600 (elapsed time:   3s,  0.1mn)\n",
      "Iteration  610 (elapsed time:   3s,  0.1mn)\n",
      "Iteration  620 (elapsed time:   3s,  0.1mn)\n",
      "Iteration  630 (elapsed time:   3s,  0.1mn)\n",
      "Iteration  640 (elapsed time:   3s,  0.1mn)\n",
      "Iteration  650 (elapsed time:   3s,  0.1mn)\n",
      "Iteration  660 (elapsed time:   3s,  0.1mn)\n",
      "Iteration  670 (elapsed time:   4s,  0.1mn)\n",
      "Iteration  680 (elapsed time:   4s,  0.1mn)\n",
      "Iteration  690 (elapsed time:   4s,  0.1mn)\n",
      "Iteration  700 (elapsed time:   4s,  0.1mn)\n",
      "Iteration  710 (elapsed time:   4s,  0.1mn)\n",
      "Iteration  720 (elapsed time:   4s,  0.1mn)\n",
      "Iteration  730 (elapsed time:   4s,  0.1mn)\n",
      "Iteration  740 (elapsed time:   4s,  0.1mn)\n",
      "Iteration  750 (elapsed time:   4s,  0.1mn)\n",
      "Iteration  760 (elapsed time:   4s,  0.1mn)\n",
      "Iteration  770 (elapsed time:   4s,  0.1mn)\n",
      "Iteration  780 (elapsed time:   4s,  0.1mn)\n",
      "Iteration  790 (elapsed time:   4s,  0.1mn)\n",
      "Iteration  800 (elapsed time:   4s,  0.1mn)\n",
      "Iteration  810 (elapsed time:   5s,  0.1mn)\n",
      "Iteration  820 (elapsed time:   5s,  0.1mn)\n",
      "Iteration  830 (elapsed time:   5s,  0.1mn)\n",
      "Iteration  840 (elapsed time:   5s,  0.1mn)\n",
      "Iteration  850 (elapsed time:   5s,  0.1mn)\n",
      "Iteration  860 (elapsed time:   5s,  0.1mn)\n",
      "Iteration  870 (elapsed time:   5s,  0.1mn)\n",
      "Iteration  880 (elapsed time:   5s,  0.1mn)\n",
      "Iteration  890 (elapsed time:   5s,  0.1mn)\n",
      "Iteration  900 (elapsed time:   5s,  0.1mn)\n",
      "Iteration  910 (elapsed time:   5s,  0.1mn)\n",
      "Iteration  920 (elapsed time:   5s,  0.1mn)\n",
      "Iteration  930 (elapsed time:   5s,  0.1mn)\n",
      "Iteration  940 (elapsed time:   5s,  0.1mn)\n",
      "Iteration  950 (elapsed time:   5s,  0.1mn)\n",
      "Iteration  960 (elapsed time:   5s,  0.1mn)\n",
      "Iteration  970 (elapsed time:   5s,  0.1mn)\n",
      "Iteration  980 (elapsed time:   6s,  0.1mn)\n",
      "Iteration  990 (elapsed time:   6s,  0.1mn)\n"
     ]
    }
   ],
   "source": [
    "## CELL TO COMPLETE\n",
    "dictlearn = MiniBatchDictionaryLearning(n_components=16, random_state=0, verbose = 10)#Instantiate a MiniBatchDictionaryLearning\n",
    "code = dictlearn.fit_transform(x_digits) #Get the code from fit_transform"
   ]
  },
  {
   "cell_type": "markdown",
   "metadata": {},
   "source": [
    "We now retrieve each of the components of the dictionary, and plot them so we can visualize the results"
   ]
  },
  {
   "cell_type": "code",
   "execution_count": 35,
   "metadata": {},
   "outputs": [
    {
     "name": "stdout",
     "output_type": "stream",
     "text": [
      "[[  0.           0.          -5.08622948 ... -24.14945103   0.\n",
      "    0.        ]\n",
      " [ 31.02977819   0.           6.55731934 ...   0.           0.\n",
      "    0.        ]\n",
      " [ 19.49849765   0.           8.38708713 ...   0.           0.\n",
      "    0.        ]\n",
      " ...\n",
      " [ 28.28697615   0.           0.         ...   0.         -16.11327574\n",
      "    0.        ]\n",
      " [  0.           0.           0.         ...   0.         -30.78351366\n",
      "   -6.75421679]\n",
      " [  0.           0.           0.         ...   0.         -23.11794956\n",
      "   12.69310135]]\n"
     ]
    }
   ],
   "source": [
    "print(code)"
   ]
  },
  {
   "cell_type": "code",
   "execution_count": 31,
   "metadata": {},
   "outputs": [
    {
     "data": {
      "image/png": "[encoded data removed]",
      "text/plain": [
       "<Figure size 432x288 with 16 Axes>"
      ]
     },
     "metadata": {},
     "output_type": "display_data"
    }
   ],
   "source": [
    "components = dictlearn.components_\n",
    "fig,axis = plt.subplots(4,4)\n",
    "for i,d in enumerate(components):\n",
    "    ax = axis[i//4][i%4]\n",
    "    ax.imshow(d.reshape((8,8)),cmap=plt.cm.gray,vmin=np.min(components),vmax=np.max(components))\n",
    "    ax.set_xticks([])\n",
    "    ax.set_yticks([])"
   ]
  },
  {
   "cell_type": "markdown",
   "metadata": {},
   "source": [
    "Here we can see that the structure of the digits was kept by the components, which means that the digits are always centered and that the rest is a uniform background. "
   ]
  },
  {
   "cell_type": "markdown",
   "metadata": {},
   "source": [
    "Now we want to generate some reconstructions, so first we are going to generate some samples"
   ]
  },
  {
   "cell_type": "code",
   "execution_count": 32,
   "metadata": {},
   "outputs": [],
   "source": [
    "whichex = np.random.randint(low=0,high=100,size=1) \n",
    "samples = list()\n",
    "indexes = list()\n",
    "for i in range(10):\n",
    "    index = np.where(y_digits==i)[0][whichex]\n",
    "    samples.append(x_digits[index])\n",
    "    indexes.append(index)\n",
    "X_samp = np.concatenate(samples)\n",
    "indexes = np.array(indexes)"
   ]
  },
  {
   "cell_type": "code",
   "execution_count": 37,
   "metadata": {},
   "outputs": [
    {
     "name": "stdout",
     "output_type": "stream",
     "text": [
      "[[ 78]\n",
      " [ 90]\n",
      " [ 84]\n",
      " [ 89]\n",
      " [110]\n",
      " [102]\n",
      " [ 88]\n",
      " [ 94]\n",
      " [122]\n",
      " [105]]\n",
      "[[ 3.58940718e-64  1.23917537e-04 -1.69276779e-02 ...  2.32459840e-02\n",
      "  -2.71569033e-02 -1.07542700e-02]\n",
      " [-2.76930130e-63 -2.88048317e-02 -2.48300292e-01 ... -1.97925509e-01\n",
      "  -5.53166442e-02 -9.04922149e-03]\n",
      " [-1.35197476e-63 -1.69134405e-02 -1.52564179e-01 ...  3.28397146e-01\n",
      "   1.62275954e-01  4.74914232e-02]\n",
      " ...\n",
      " [ 4.85145124e-63  2.66053576e-03 -7.68698873e-02 ...  5.90866883e-03\n",
      "   2.26396985e-03 -1.16400288e-02]\n",
      " [ 2.44819085e-63 -1.21038226e-02 -1.92588636e-01 ... -1.23688828e-01\n",
      "  -8.58591464e-02 -4.35869705e-02]\n",
      " [-9.85987851e-64  1.26947489e-02  1.09240580e-01 ...  1.99587599e-01\n",
      "   1.57698075e-01  1.39687752e-02]]\n"
     ]
    }
   ],
   "source": [
    "print(indexes)\n",
    "print(components)"
   ]
  },
  {
   "cell_type": "markdown",
   "metadata": {},
   "source": [
    "And now we will use the codes obtained using the dictionary and the indexes used to extract the samples to reconstruct the data by using [np.dot]() function to perform matrix multiplication between the sample code and the components from the dictionary."
   ]
  },
  {
   "cell_type": "code",
   "execution_count": 42,
   "metadata": {},
   "outputs": [],
   "source": [
    "### CELL TO COMPLETE, generate the reconstructions array using code, indexes and D\n",
    "reconstructions = np.dot(code, components)"
   ]
  },
  {
   "cell_type": "code",
   "execution_count": 43,
   "metadata": {},
   "outputs": [
    {
     "data": {
      "image/png": "[encoded data removed]",
      "text/plain": [
       "<Figure size 1440x360 with 20 Axes>"
      ]
     },
     "metadata": {},
     "output_type": "display_data"
    }
   ],
   "source": [
    "plt.figure(figsize=(20,5))\n",
    "for plot_index,(digit,reconstruction) in enumerate(zip(X_samp,reconstructions)):\n",
    "    plt.subplot(2,10,plot_index*2+1)\n",
    "\n",
    "    plt.imshow(digit.reshape((8,8)),cmap=plt.cm.gray,vmin=x_digits.min(),vmax=x_digits.max())\n",
    "    plt.xticks([])\n",
    "    plt.yticks([])\n",
    "    plt.title('$x$')\n",
    "        \n",
    "    plt.subplot(2,10,plot_index*2+2)\n",
    "    plt.imshow(reconstruction.reshape((8,8)),cmap=plt.cm.gray,vmin=reconstructions.min(),vmax=reconstructions.max())\n",
    "    plt.xticks([])\n",
    "    plt.yticks([])\n",
    "    error = np.sum((reconstruction-digit)**2)\n",
    "    plt.title('${\\~x}$, error %.2E' % error)"
   ]
  },
  {
   "cell_type": "markdown",
   "metadata": {},
   "source": [
    "# Visualization of manifold learning"
   ]
  },
  {
   "cell_type": "markdown",
   "metadata": {},
   "source": [
    "One example of the importance of manifold learning, we train a TSNE model and plot the 2D visualization"
   ]
  },
  {
   "cell_type": "code",
   "execution_count": 44,
   "metadata": {},
   "outputs": [
    {
     "data": {
      "text/plain": [
       "<matplotlib.colorbar.Colorbar at 0x7f748e8cc208>"
      ]
     },
     "execution_count": 44,
     "metadata": {},
     "output_type": "execute_result"
    },
    {
     "data": {
      "image/png": "[encoded data removed]",
      "text/plain": [
       "<Figure size 432x288 with 2 Axes>"
      ]
     },
     "metadata": {},
     "output_type": "display_data"
    }
   ],
   "source": [
    "from sklearn.manifold import TSNE\n",
    "unsup = TSNE(random_state = 0)\n",
    "examples = unsup.fit_transform(x_digits)\n",
    "plt.scatter(examples[:,0],examples[:,1],c=y_digits)\n",
    "plt.colorbar()"
   ]
  },
  {
   "cell_type": "markdown",
   "metadata": {},
   "source": [
    "Unsupervised learning on pyrat games\n",
    "--"
   ]
  },
  {
   "cell_type": "markdown",
   "metadata": {},
   "source": [
    "Now it is your turn. Perform the same analysis we did in the digits dataset on the pyrat dataset you generated for TP1. We are going to be concentrating ourselves only in the games that the python lost (i.e y < 1)"
   ]
  },
  {
   "cell_type": "code",
   "execution_count": null,
   "metadata": {
    "collapsed": true
   },
   "outputs": [],
   "source": [
    "### CELL TO COMPLETE, load the dataset and stock only the games the python lost in x and y\n",
    "x = \n",
    "y = "
   ]
  },
  {
   "cell_type": "markdown",
   "metadata": {},
   "source": [
    "Plot a few configurations of the pyrat dataset. In the first TP (TP0) we made a mistake of representing the labyrinth as (15,21) instead of (21,15). Another mistake we made was not inverting the yaxis, which made that not only our labyrinth was not in the correct aspect ratio it was also inverted. "
   ]
  },
  {
   "cell_type": "code",
   "execution_count": null,
   "metadata": {
    "collapsed": true
   },
   "outputs": [],
   "source": [
    "afew = 5\n",
    "for i in range(afew):\n",
    "    ind = np.random.randint(x.shape[0])\n",
    "    plt.imshow(x[ind].reshape((21,15)))\n",
    "    plt.title('Result : %d' % y[ind])\n",
    "    plt.gca().invert_yaxis()\n",
    "    plt.show()"
   ]
  },
  {
   "cell_type": "markdown",
   "metadata": {},
   "source": [
    "# Mean representation of losses\n",
    "\n",
    "Do the same experiment as of the end of TP0 by showing the mean representation of the games the python didn't win. This time use the correct values for the aspect ratio of the labyrinth and the correct orientation of the y_axis"
   ]
  },
  {
   "cell_type": "code",
   "execution_count": null,
   "metadata": {
    "collapsed": true
   },
   "outputs": [],
   "source": [
    "### CELL TO COMPLETE"
   ]
  },
  {
   "cell_type": "markdown",
   "metadata": {},
   "source": [
    "Now do a visualization of the cluster centroids and reconstructions as we did with digits. Finally try to find the best k by testing different values of n_clusters "
   ]
  },
  {
   "cell_type": "code",
   "execution_count": null,
   "metadata": {
    "collapsed": true
   },
   "outputs": [],
   "source": [
    "## CELL TO COMPLETE"
   ]
  },
  {
   "cell_type": "code",
   "execution_count": null,
   "metadata": {
    "collapsed": true
   },
   "outputs": [],
   "source": [
    "##CELL TO COMPLETE"
   ]
  },
  {
   "cell_type": "code",
   "execution_count": null,
   "metadata": {
    "collapsed": true
   },
   "outputs": [],
   "source": [
    "## CELL TO COMPLETE\n"
   ]
  },
  {
   "cell_type": "markdown",
   "metadata": {},
   "source": [
    "Dictionary Learning on PyRat Games \n",
    "--"
   ]
  },
  {
   "cell_type": "markdown",
   "metadata": {},
   "source": [
    "Generate a MiniBatchDictionaryLearning model of the pyrat dataset. Show the components, the reconstructions and the errors."
   ]
  },
  {
   "cell_type": "code",
   "execution_count": null,
   "metadata": {
    "collapsed": true
   },
   "outputs": [],
   "source": [
    "## CELL TO COMPLETE"
   ]
  },
  {
   "cell_type": "code",
   "execution_count": null,
   "metadata": {
    "collapsed": true
   },
   "outputs": [],
   "source": [
    "## CELL TO COMPLETE"
   ]
  },
  {
   "cell_type": "markdown",
   "metadata": {},
   "source": [
    "### Now try to analyse the data you have, what are the characteristics that you could find in the games where the python lost? You should now carry on with the analysis on your P2"
   ]
  }
 ],
 "metadata": {
  "kernelspec": {
   "display_name": "Python [default]",
   "language": "python",
   "name": "python3"
  },
  "language_info": {
   "codemirror_mode": {
    "name": "ipython",
    "version": 3
   },
   "file_extension": ".py",
   "mimetype": "text/x-python",
   "name": "python",
   "nbconvert_exporter": "python",
   "pygments_lexer": "ipython3",
   "version": "3.6.4"
  }
 },
 "nbformat": 4,
 "nbformat_minor": 2
}
